{
 "cells": [
  {
   "cell_type": "code",
   "execution_count": 17,
   "id": "fed93ba3-1ffb-4d9d-a5b6-ed15b2ca26a5",
   "metadata": {},
   "outputs": [],
   "source": [
    "import pandas as pd\n",
    "import numpy as np"
   ]
  },
  {
   "cell_type": "code",
   "execution_count": 2,
   "id": "439e7123-573d-4c8f-b66e-325bb37a45c7",
   "metadata": {},
   "outputs": [],
   "source": [
    "df = pd.read_csv('grocery_sales.csv')"
   ]
  },
  {
   "cell_type": "code",
   "execution_count": 3,
   "id": "7d63cd32-ecf6-4f0f-b063-d0d94b6f266e",
   "metadata": {},
   "outputs": [
    {
     "data": {
      "text/html": [
       "<div>\n",
       "<style scoped>\n",
       "    .dataframe tbody tr th:only-of-type {\n",
       "        vertical-align: middle;\n",
       "    }\n",
       "\n",
       "    .dataframe tbody tr th {\n",
       "        vertical-align: top;\n",
       "    }\n",
       "\n",
       "    .dataframe thead th {\n",
       "        text-align: right;\n",
       "    }\n",
       "</style>\n",
       "<table border=\"1\" class=\"dataframe\">\n",
       "  <thead>\n",
       "    <tr style=\"text-align: right;\">\n",
       "      <th></th>\n",
       "      <th>Date</th>\n",
       "      <th>Item</th>\n",
       "      <th>Category</th>\n",
       "      <th>Quantity</th>\n",
       "      <th>Unit_Price</th>\n",
       "      <th>Total_Sale</th>\n",
       "      <th>Payment_Method</th>\n",
       "    </tr>\n",
       "  </thead>\n",
       "  <tbody>\n",
       "    <tr>\n",
       "      <th>0</th>\n",
       "      <td>2025-07-01</td>\n",
       "      <td>Bread</td>\n",
       "      <td>Bakery</td>\n",
       "      <td>12</td>\n",
       "      <td>30</td>\n",
       "      <td>360</td>\n",
       "      <td>Cash</td>\n",
       "    </tr>\n",
       "    <tr>\n",
       "      <th>1</th>\n",
       "      <td>2025-07-02</td>\n",
       "      <td>Cookies</td>\n",
       "      <td>Bakery</td>\n",
       "      <td>5</td>\n",
       "      <td>20</td>\n",
       "      <td>100</td>\n",
       "      <td>UPI</td>\n",
       "    </tr>\n",
       "    <tr>\n",
       "      <th>2</th>\n",
       "      <td>2025-07-03</td>\n",
       "      <td>Orange</td>\n",
       "      <td>Fruits</td>\n",
       "      <td>19</td>\n",
       "      <td>25</td>\n",
       "      <td>475</td>\n",
       "      <td>Cash</td>\n",
       "    </tr>\n",
       "    <tr>\n",
       "      <th>3</th>\n",
       "      <td>2025-07-04</td>\n",
       "      <td>Orange</td>\n",
       "      <td>Fruits</td>\n",
       "      <td>9</td>\n",
       "      <td>25</td>\n",
       "      <td>225</td>\n",
       "      <td>Cash</td>\n",
       "    </tr>\n",
       "    <tr>\n",
       "      <th>4</th>\n",
       "      <td>2025-07-05</td>\n",
       "      <td>Banana</td>\n",
       "      <td>Fruits</td>\n",
       "      <td>18</td>\n",
       "      <td>10</td>\n",
       "      <td>180</td>\n",
       "      <td>UPI</td>\n",
       "    </tr>\n",
       "    <tr>\n",
       "      <th>...</th>\n",
       "      <td>...</td>\n",
       "      <td>...</td>\n",
       "      <td>...</td>\n",
       "      <td>...</td>\n",
       "      <td>...</td>\n",
       "      <td>...</td>\n",
       "      <td>...</td>\n",
       "    </tr>\n",
       "    <tr>\n",
       "      <th>95</th>\n",
       "      <td>2025-10-04</td>\n",
       "      <td>Orange</td>\n",
       "      <td>Fruits</td>\n",
       "      <td>1</td>\n",
       "      <td>25</td>\n",
       "      <td>25</td>\n",
       "      <td>UPI</td>\n",
       "    </tr>\n",
       "    <tr>\n",
       "      <th>96</th>\n",
       "      <td>2025-10-05</td>\n",
       "      <td>Cake</td>\n",
       "      <td>Bakery</td>\n",
       "      <td>19</td>\n",
       "      <td>150</td>\n",
       "      <td>2850</td>\n",
       "      <td>UPI</td>\n",
       "    </tr>\n",
       "    <tr>\n",
       "      <th>97</th>\n",
       "      <td>2025-10-06</td>\n",
       "      <td>Grapes</td>\n",
       "      <td>Fruits</td>\n",
       "      <td>18</td>\n",
       "      <td>18</td>\n",
       "      <td>324</td>\n",
       "      <td>UPI</td>\n",
       "    </tr>\n",
       "    <tr>\n",
       "      <th>98</th>\n",
       "      <td>2025-10-07</td>\n",
       "      <td>Milk</td>\n",
       "      <td>Dairy</td>\n",
       "      <td>1</td>\n",
       "      <td>45</td>\n",
       "      <td>45</td>\n",
       "      <td>Card</td>\n",
       "    </tr>\n",
       "    <tr>\n",
       "      <th>99</th>\n",
       "      <td>2025-10-08</td>\n",
       "      <td>Milk</td>\n",
       "      <td>Dairy</td>\n",
       "      <td>14</td>\n",
       "      <td>45</td>\n",
       "      <td>630</td>\n",
       "      <td>UPI</td>\n",
       "    </tr>\n",
       "  </tbody>\n",
       "</table>\n",
       "<p>100 rows × 7 columns</p>\n",
       "</div>"
      ],
      "text/plain": [
       "          Date     Item Category  Quantity  Unit_Price  Total_Sale  \\\n",
       "0   2025-07-01    Bread   Bakery        12          30         360   \n",
       "1   2025-07-02  Cookies   Bakery         5          20         100   \n",
       "2   2025-07-03   Orange   Fruits        19          25         475   \n",
       "3   2025-07-04   Orange   Fruits         9          25         225   \n",
       "4   2025-07-05   Banana   Fruits        18          10         180   \n",
       "..         ...      ...      ...       ...         ...         ...   \n",
       "95  2025-10-04   Orange   Fruits         1          25          25   \n",
       "96  2025-10-05     Cake   Bakery        19         150        2850   \n",
       "97  2025-10-06   Grapes   Fruits        18          18         324   \n",
       "98  2025-10-07     Milk    Dairy         1          45          45   \n",
       "99  2025-10-08     Milk    Dairy        14          45         630   \n",
       "\n",
       "   Payment_Method  \n",
       "0            Cash  \n",
       "1             UPI  \n",
       "2            Cash  \n",
       "3            Cash  \n",
       "4             UPI  \n",
       "..            ...  \n",
       "95            UPI  \n",
       "96            UPI  \n",
       "97            UPI  \n",
       "98           Card  \n",
       "99            UPI  \n",
       "\n",
       "[100 rows x 7 columns]"
      ]
     },
     "execution_count": 3,
     "metadata": {},
     "output_type": "execute_result"
    }
   ],
   "source": [
    "df"
   ]
  },
  {
   "cell_type": "code",
   "execution_count": 5,
   "id": "6217b1fc-5482-43f2-a252-1b214db81df6",
   "metadata": {},
   "outputs": [
    {
     "data": {
      "text/plain": [
       "(100, 7)"
      ]
     },
     "execution_count": 5,
     "metadata": {},
     "output_type": "execute_result"
    }
   ],
   "source": [
    "df.shape # Checking the number of rows and columns"
   ]
  },
  {
   "cell_type": "code",
   "execution_count": 11,
   "id": "d19b051f-ca91-4b3b-938c-dc76ccdcd129",
   "metadata": {},
   "outputs": [
    {
     "name": "stdout",
     "output_type": "stream",
     "text": [
      "<class 'pandas.core.frame.DataFrame'>\n",
      "RangeIndex: 100 entries, 0 to 99\n",
      "Data columns (total 7 columns):\n",
      " #   Column          Non-Null Count  Dtype \n",
      "---  ------          --------------  ----- \n",
      " 0   Date            100 non-null    object\n",
      " 1   Item            100 non-null    object\n",
      " 2   Category        100 non-null    object\n",
      " 3   Quantity        100 non-null    int64 \n",
      " 4   Unit_Price      100 non-null    int64 \n",
      " 5   Total_Sale      100 non-null    int64 \n",
      " 6   Payment_Method  100 non-null    object\n",
      "dtypes: int64(3), object(4)\n",
      "memory usage: 5.6+ KB\n"
     ]
    }
   ],
   "source": [
    "df.info()"
   ]
  },
  {
   "cell_type": "markdown",
   "id": "0106feb7-e5ec-4647-9c12-5635905c3ab0",
   "metadata": {},
   "source": [
    "# Checking missing values in columns"
   ]
  },
  {
   "cell_type": "code",
   "execution_count": 10,
   "id": "2aec15ea-5324-4f39-a622-ceb1b7b91421",
   "metadata": {},
   "outputs": [
    {
     "data": {
      "text/plain": [
       "Date              0\n",
       "Item              0\n",
       "Category          0\n",
       "Quantity          0\n",
       "Unit_Price        0\n",
       "Total_Sale        0\n",
       "Payment_Method    0\n",
       "dtype: int64"
      ]
     },
     "execution_count": 10,
     "metadata": {},
     "output_type": "execute_result"
    }
   ],
   "source": [
    "df.isnull().sum()"
   ]
  },
  {
   "cell_type": "code",
   "execution_count": 12,
   "id": "e9e7e970-5ef0-4661-a63b-28a04553199a",
   "metadata": {},
   "outputs": [
    {
     "data": {
      "text/html": [
       "<div>\n",
       "<style scoped>\n",
       "    .dataframe tbody tr th:only-of-type {\n",
       "        vertical-align: middle;\n",
       "    }\n",
       "\n",
       "    .dataframe tbody tr th {\n",
       "        vertical-align: top;\n",
       "    }\n",
       "\n",
       "    .dataframe thead th {\n",
       "        text-align: right;\n",
       "    }\n",
       "</style>\n",
       "<table border=\"1\" class=\"dataframe\">\n",
       "  <thead>\n",
       "    <tr style=\"text-align: right;\">\n",
       "      <th></th>\n",
       "      <th>Quantity</th>\n",
       "      <th>Unit_Price</th>\n",
       "      <th>Total_Sale</th>\n",
       "    </tr>\n",
       "  </thead>\n",
       "  <tbody>\n",
       "    <tr>\n",
       "      <th>count</th>\n",
       "      <td>100.000000</td>\n",
       "      <td>100.000000</td>\n",
       "      <td>100.000000</td>\n",
       "    </tr>\n",
       "    <tr>\n",
       "      <th>mean</th>\n",
       "      <td>10.380000</td>\n",
       "      <td>43.660000</td>\n",
       "      <td>427.720000</td>\n",
       "    </tr>\n",
       "    <tr>\n",
       "      <th>std</th>\n",
       "      <td>5.674291</td>\n",
       "      <td>37.054756</td>\n",
       "      <td>486.395484</td>\n",
       "    </tr>\n",
       "    <tr>\n",
       "      <th>min</th>\n",
       "      <td>1.000000</td>\n",
       "      <td>6.000000</td>\n",
       "      <td>10.000000</td>\n",
       "    </tr>\n",
       "    <tr>\n",
       "      <th>25%</th>\n",
       "      <td>6.000000</td>\n",
       "      <td>20.000000</td>\n",
       "      <td>157.500000</td>\n",
       "    </tr>\n",
       "    <tr>\n",
       "      <th>50%</th>\n",
       "      <td>10.000000</td>\n",
       "      <td>25.000000</td>\n",
       "      <td>300.000000</td>\n",
       "    </tr>\n",
       "    <tr>\n",
       "      <th>75%</th>\n",
       "      <td>15.000000</td>\n",
       "      <td>60.000000</td>\n",
       "      <td>480.000000</td>\n",
       "    </tr>\n",
       "    <tr>\n",
       "      <th>max</th>\n",
       "      <td>20.000000</td>\n",
       "      <td>150.000000</td>\n",
       "      <td>2850.000000</td>\n",
       "    </tr>\n",
       "  </tbody>\n",
       "</table>\n",
       "</div>"
      ],
      "text/plain": [
       "         Quantity  Unit_Price   Total_Sale\n",
       "count  100.000000  100.000000   100.000000\n",
       "mean    10.380000   43.660000   427.720000\n",
       "std      5.674291   37.054756   486.395484\n",
       "min      1.000000    6.000000    10.000000\n",
       "25%      6.000000   20.000000   157.500000\n",
       "50%     10.000000   25.000000   300.000000\n",
       "75%     15.000000   60.000000   480.000000\n",
       "max     20.000000  150.000000  2850.000000"
      ]
     },
     "execution_count": 12,
     "metadata": {},
     "output_type": "execute_result"
    }
   ],
   "source": [
    "df.describe()"
   ]
  },
  {
   "cell_type": "markdown",
   "id": "6112ca3d-0de9-4330-984a-23724fd7156d",
   "metadata": {},
   "source": [
    "# Total Sales per day"
   ]
  },
  {
   "cell_type": "code",
   "execution_count": 16,
   "id": "67462e74-8f07-4a65-860f-e33dda16e156",
   "metadata": {},
   "outputs": [
    {
     "data": {
      "text/html": [
       "<div>\n",
       "<style scoped>\n",
       "    .dataframe tbody tr th:only-of-type {\n",
       "        vertical-align: middle;\n",
       "    }\n",
       "\n",
       "    .dataframe tbody tr th {\n",
       "        vertical-align: top;\n",
       "    }\n",
       "\n",
       "    .dataframe thead th {\n",
       "        text-align: right;\n",
       "    }\n",
       "</style>\n",
       "<table border=\"1\" class=\"dataframe\">\n",
       "  <thead>\n",
       "    <tr style=\"text-align: right;\">\n",
       "      <th></th>\n",
       "      <th>Date</th>\n",
       "      <th>Total_Sale</th>\n",
       "    </tr>\n",
       "  </thead>\n",
       "  <tbody>\n",
       "    <tr>\n",
       "      <th>0</th>\n",
       "      <td>2025-07-01</td>\n",
       "      <td>360</td>\n",
       "    </tr>\n",
       "    <tr>\n",
       "      <th>1</th>\n",
       "      <td>2025-07-02</td>\n",
       "      <td>100</td>\n",
       "    </tr>\n",
       "    <tr>\n",
       "      <th>2</th>\n",
       "      <td>2025-07-03</td>\n",
       "      <td>475</td>\n",
       "    </tr>\n",
       "    <tr>\n",
       "      <th>3</th>\n",
       "      <td>2025-07-04</td>\n",
       "      <td>225</td>\n",
       "    </tr>\n",
       "    <tr>\n",
       "      <th>4</th>\n",
       "      <td>2025-07-05</td>\n",
       "      <td>180</td>\n",
       "    </tr>\n",
       "    <tr>\n",
       "      <th>...</th>\n",
       "      <td>...</td>\n",
       "      <td>...</td>\n",
       "    </tr>\n",
       "    <tr>\n",
       "      <th>95</th>\n",
       "      <td>2025-10-04</td>\n",
       "      <td>25</td>\n",
       "    </tr>\n",
       "    <tr>\n",
       "      <th>96</th>\n",
       "      <td>2025-10-05</td>\n",
       "      <td>2850</td>\n",
       "    </tr>\n",
       "    <tr>\n",
       "      <th>97</th>\n",
       "      <td>2025-10-06</td>\n",
       "      <td>324</td>\n",
       "    </tr>\n",
       "    <tr>\n",
       "      <th>98</th>\n",
       "      <td>2025-10-07</td>\n",
       "      <td>45</td>\n",
       "    </tr>\n",
       "    <tr>\n",
       "      <th>99</th>\n",
       "      <td>2025-10-08</td>\n",
       "      <td>630</td>\n",
       "    </tr>\n",
       "  </tbody>\n",
       "</table>\n",
       "<p>100 rows × 2 columns</p>\n",
       "</div>"
      ],
      "text/plain": [
       "          Date  Total_Sale\n",
       "0   2025-07-01         360\n",
       "1   2025-07-02         100\n",
       "2   2025-07-03         475\n",
       "3   2025-07-04         225\n",
       "4   2025-07-05         180\n",
       "..         ...         ...\n",
       "95  2025-10-04          25\n",
       "96  2025-10-05        2850\n",
       "97  2025-10-06         324\n",
       "98  2025-10-07          45\n",
       "99  2025-10-08         630\n",
       "\n",
       "[100 rows x 2 columns]"
      ]
     },
     "execution_count": 16,
     "metadata": {},
     "output_type": "execute_result"
    }
   ],
   "source": [
    "total_sales_per_day = df[['Date','Total_Sale']]\n",
    "total_sales_per_day"
   ]
  },
  {
   "cell_type": "code",
   "execution_count": 20,
   "id": "421a2ba5-e60d-4e7b-87c9-6eb9053faedc",
   "metadata": {},
   "outputs": [
    {
     "data": {
      "text/plain": [
       "2850"
      ]
     },
     "execution_count": 20,
     "metadata": {},
     "output_type": "execute_result"
    }
   ],
   "source": [
    "highest_day_sale = np.max(total_sales_per_day['Total_Sale'])\n",
    "highest_day_sale"
   ]
  },
  {
   "cell_type": "markdown",
   "id": "02fe277e-2575-4e17-b653-0ab1980dc34e",
   "metadata": {},
   "source": [
    "# Line graph of total sale over time"
   ]
  },
  {
   "cell_type": "code",
   "execution_count": 24,
   "id": "09a4b6eb-8956-421d-92d6-9fbede9cb84f",
   "metadata": {},
   "outputs": [],
   "source": [
    "import matplotlib.pyplot as plt"
   ]
  },
  {
   "cell_type": "code",
   "execution_count": 49,
   "id": "3a1e309b-4372-4675-b467-00c66ebf0515",
   "metadata": {},
   "outputs": [
    {
     "data": {
      "image/png": "[encoded data removed]",
      "text/plain": [
       "<Figure size 1000x500 with 1 Axes>"
      ]
     },
     "metadata": {},
     "output_type": "display_data"
    }
   ],
   "source": [
    "plt.figure(figsize=(10, 5))\n",
    "daily_sales.plot(marker='o')\n",
    "plt.title(\"Total Sales Over Time\")\n",
    "plt.xlabel(\"Date\",rotation='vertical')\n",
    "plt.ylabel(\"Total Sale (₹)\")\n",
    "plt.grid(True)\n",
    "plt.tight_layout()\n",
    "plt.show()"
   ]
  },
  {
   "cell_type": "code",
   "execution_count": 27,
   "id": "0c1ce446-92f6-4805-93e6-2c4393b577b9",
   "metadata": {},
   "outputs": [
    {
     "data": {
      "text/html": [
       "<div>\n",
       "<style scoped>\n",
       "    .dataframe tbody tr th:only-of-type {\n",
       "        vertical-align: middle;\n",
       "    }\n",
       "\n",
       "    .dataframe tbody tr th {\n",
       "        vertical-align: top;\n",
       "    }\n",
       "\n",
       "    .dataframe thead th {\n",
       "        text-align: right;\n",
       "    }\n",
       "</style>\n",
       "<table border=\"1\" class=\"dataframe\">\n",
       "  <thead>\n",
       "    <tr style=\"text-align: right;\">\n",
       "      <th></th>\n",
       "      <th>Date</th>\n",
       "      <th>Item</th>\n",
       "      <th>Category</th>\n",
       "      <th>Quantity</th>\n",
       "      <th>Unit_Price</th>\n",
       "      <th>Total_Sale</th>\n",
       "      <th>Payment_Method</th>\n",
       "    </tr>\n",
       "  </thead>\n",
       "  <tbody>\n",
       "    <tr>\n",
       "      <th>0</th>\n",
       "      <td>2025-07-01</td>\n",
       "      <td>Bread</td>\n",
       "      <td>Bakery</td>\n",
       "      <td>12</td>\n",
       "      <td>30</td>\n",
       "      <td>360</td>\n",
       "      <td>Cash</td>\n",
       "    </tr>\n",
       "    <tr>\n",
       "      <th>1</th>\n",
       "      <td>2025-07-02</td>\n",
       "      <td>Cookies</td>\n",
       "      <td>Bakery</td>\n",
       "      <td>5</td>\n",
       "      <td>20</td>\n",
       "      <td>100</td>\n",
       "      <td>UPI</td>\n",
       "    </tr>\n",
       "    <tr>\n",
       "      <th>2</th>\n",
       "      <td>2025-07-03</td>\n",
       "      <td>Orange</td>\n",
       "      <td>Fruits</td>\n",
       "      <td>19</td>\n",
       "      <td>25</td>\n",
       "      <td>475</td>\n",
       "      <td>Cash</td>\n",
       "    </tr>\n",
       "    <tr>\n",
       "      <th>3</th>\n",
       "      <td>2025-07-04</td>\n",
       "      <td>Orange</td>\n",
       "      <td>Fruits</td>\n",
       "      <td>9</td>\n",
       "      <td>25</td>\n",
       "      <td>225</td>\n",
       "      <td>Cash</td>\n",
       "    </tr>\n",
       "    <tr>\n",
       "      <th>4</th>\n",
       "      <td>2025-07-05</td>\n",
       "      <td>Banana</td>\n",
       "      <td>Fruits</td>\n",
       "      <td>18</td>\n",
       "      <td>10</td>\n",
       "      <td>180</td>\n",
       "      <td>UPI</td>\n",
       "    </tr>\n",
       "  </tbody>\n",
       "</table>\n",
       "</div>"
      ],
      "text/plain": [
       "         Date     Item Category  Quantity  Unit_Price  Total_Sale  \\\n",
       "0  2025-07-01    Bread   Bakery        12          30         360   \n",
       "1  2025-07-02  Cookies   Bakery         5          20         100   \n",
       "2  2025-07-03   Orange   Fruits        19          25         475   \n",
       "3  2025-07-04   Orange   Fruits         9          25         225   \n",
       "4  2025-07-05   Banana   Fruits        18          10         180   \n",
       "\n",
       "  Payment_Method  \n",
       "0           Cash  \n",
       "1            UPI  \n",
       "2           Cash  \n",
       "3           Cash  \n",
       "4            UPI  "
      ]
     },
     "execution_count": 27,
     "metadata": {},
     "output_type": "execute_result"
    }
   ],
   "source": [
    "df.head()"
   ]
  },
  {
   "cell_type": "markdown",
   "id": "e17a40c5-1420-4b02-a0d6-def48859d502",
   "metadata": {},
   "source": [
    "# Total quantity sold by category"
   ]
  },
  {
   "cell_type": "code",
   "execution_count": 32,
   "id": "51b32a08-e2b0-442a-8e68-e1544e534465",
   "metadata": {},
   "outputs": [
    {
     "name": "stdout",
     "output_type": "stream",
     "text": [
      "Category\n",
      "Bakery    232\n",
      "Dairy     415\n",
      "Fruits    391\n",
      "Name: Quantity, dtype: int64\n"
     ]
    }
   ],
   "source": [
    "# total_quantity_sold_by_category = df[['Category','Quantity']]\n",
    "# total_quantity_sold_by_category\n",
    "\n",
    "print(df.groupby(\"Category\")[\"Quantity\"].sum())"
   ]
  },
  {
   "cell_type": "markdown",
   "id": "966e4e8b-adfb-4db0-a1db-4f1dfc3c59d1",
   "metadata": {},
   "source": [
    "# Total sale by category"
   ]
  },
  {
   "cell_type": "code",
   "execution_count": 33,
   "id": "5112644b-121a-4456-af29-acd61c71b8e0",
   "metadata": {},
   "outputs": [
    {
     "name": "stdout",
     "output_type": "stream",
     "text": [
      "Category\n",
      "Bakery    15630\n",
      "Dairy     19942\n",
      "Fruits     7200\n",
      "Name: Total_Sale, dtype: int64\n"
     ]
    }
   ],
   "source": [
    "print(df.groupby(\"Category\")['Total_Sale'].sum())"
   ]
  },
  {
   "cell_type": "markdown",
   "id": "b034df39-72bb-4000-9204-26b1de670ab8",
   "metadata": {},
   "source": [
    "# Top 5 best-selling items (by quantity)"
   ]
  },
  {
   "cell_type": "code",
   "execution_count": 34,
   "id": "2f552a79-b0ce-47f8-9c99-108d1ec23021",
   "metadata": {},
   "outputs": [
    {
     "name": "stdout",
     "output_type": "stream",
     "text": [
      "Item\n",
      "Orange    112\n",
      "Bread     111\n",
      "Banana    102\n",
      "Milk      100\n",
      "Cheese     99\n",
      "Name: Quantity, dtype: int64\n"
     ]
    }
   ],
   "source": [
    "print(df.groupby(\"Item\")[\"Quantity\"].sum().sort_values(ascending=False).head())"
   ]
  },
  {
   "cell_type": "markdown",
   "id": "82c1e301-c1d8-4ce6-af22-7abf54ee0587",
   "metadata": {},
   "source": [
    "# Top 5 revenue-generating items"
   ]
  },
  {
   "cell_type": "code",
   "execution_count": 35,
   "id": "e0fa286c-afd3-4ea4-9532-148c95b18418",
   "metadata": {},
   "outputs": [
    {
     "name": "stdout",
     "output_type": "stream",
     "text": [
      "Item\n",
      "Cake      11400\n",
      "Cheese     5940\n",
      "Paneer     4875\n",
      "Milk       4500\n",
      "Bread      3330\n",
      "Name: Total_Sale, dtype: int64\n"
     ]
    }
   ],
   "source": [
    "print(df.groupby(\"Item\")[\"Total_Sale\"].sum().sort_values(ascending=False).head())"
   ]
  },
  {
   "cell_type": "markdown",
   "id": "454cdbb6-38fe-4771-8b2c-ce2df5370a16",
   "metadata": {},
   "source": [
    "# Average unit price by category"
   ]
  },
  {
   "cell_type": "code",
   "execution_count": 38,
   "id": "d3756b34-656f-468d-9c68-760f81f55363",
   "metadata": {},
   "outputs": [
    {
     "name": "stdout",
     "output_type": "stream",
     "text": [
      "Category\n",
      "Bakery    70.909091\n",
      "Dairy     49.045455\n",
      "Fruits    19.058824\n",
      "Name: Unit_Price, dtype: float64\n"
     ]
    }
   ],
   "source": [
    "print(df.groupby(\"Category\")['Unit_Price'].mean())"
   ]
  },
  {
   "cell_type": "markdown",
   "id": "0a00bf8e-1d60-44ae-afb2-d27dab1c65eb",
   "metadata": {},
   "source": [
    "# Item with highest unit price"
   ]
  },
  {
   "cell_type": "code",
   "execution_count": null,
   "id": "7e147cc3-14b3-466e-b608-bb2760eabb7a",
   "metadata": {},
   "outputs": [],
   "source": []
  },
  {
   "cell_type": "markdown",
   "id": "90f99122-6eb5-4722-94f8-3f9f26650c9b",
   "metadata": {},
   "source": [
    "# Revenue per unit by category"
   ]
  },
  {
   "cell_type": "code",
   "execution_count": 40,
   "id": "469b7d19-9997-444e-8400-6f00529b57fd",
   "metadata": {},
   "outputs": [
    {
     "data": {
      "text/plain": [
       "Category\n",
       "Bakery    15630\n",
       "Dairy     19942\n",
       "Fruits     7200\n",
       "Name: Total_Sale, dtype: int64"
      ]
     },
     "execution_count": 40,
     "metadata": {},
     "output_type": "execute_result"
    }
   ],
   "source": [
    "df.groupby(\"Category\")[\"Total_Sale\"].sum()"
   ]
  },
  {
   "cell_type": "code",
   "execution_count": 41,
   "id": "71425656-5852-40c7-8b08-5d958e7416d2",
   "metadata": {},
   "outputs": [
    {
     "data": {
      "text/plain": [
       "Category\n",
       "Bakery    232\n",
       "Dairy     415\n",
       "Fruits    391\n",
       "Name: Quantity, dtype: int64"
      ]
     },
     "execution_count": 41,
     "metadata": {},
     "output_type": "execute_result"
    }
   ],
   "source": [
    "df.groupby(\"Category\")[\"Quantity\"].sum()"
   ]
  },
  {
   "cell_type": "code",
   "execution_count": 39,
   "id": "1c83bb19-25a2-42a1-b7cc-5d3890ab1b0a",
   "metadata": {},
   "outputs": [
    {
     "name": "stdout",
     "output_type": "stream",
     "text": [
      "Category\n",
      "Bakery    67.370690\n",
      "Dairy     48.053012\n",
      "Fruits    18.414322\n",
      "dtype: float64\n"
     ]
    }
   ],
   "source": [
    "revenue_per_unit = df.groupby(\"Category\")[\"Total_Sale\"].sum() / df.groupby(\"Category\")[\"Quantity\"].sum()\n",
    "print(revenue_per_unit)"
   ]
  },
  {
   "cell_type": "markdown",
   "id": "e689015d-dd5d-4f6e-86dc-501fe4b73545",
   "metadata": {},
   "source": [
    "# Category wise sales per day"
   ]
  },
  {
   "cell_type": "code",
   "execution_count": 43,
   "id": "8172e6d6-bb44-41bc-9b6e-561922354a93",
   "metadata": {},
   "outputs": [
    {
     "data": {
      "text/plain": [
       "Date\n",
       "2025-07-01    Bakery\n",
       "2025-07-02    Bakery\n",
       "2025-07-03    Fruits\n",
       "2025-07-04    Fruits\n",
       "2025-07-05    Fruits\n",
       "               ...  \n",
       "2025-10-04    Fruits\n",
       "2025-10-05    Bakery\n",
       "2025-10-06    Fruits\n",
       "2025-10-07     Dairy\n",
       "2025-10-08     Dairy\n",
       "Name: Category, Length: 100, dtype: object"
      ]
     },
     "execution_count": 43,
     "metadata": {},
     "output_type": "execute_result"
    }
   ],
   "source": [
    "df.groupby('Date')['Category'].sum()"
   ]
  },
  {
   "cell_type": "markdown",
   "id": "f8a44f11-7bc0-4dff-9c49-c47977ffcdfa",
   "metadata": {},
   "source": [
    "# Total sales by each payment method"
   ]
  },
  {
   "cell_type": "code",
   "execution_count": 45,
   "id": "5f347892-e162-4959-bc3d-ed2eadca88ea",
   "metadata": {},
   "outputs": [
    {
     "data": {
      "text/plain": [
       "Payment_Method\n",
       "Card    14824\n",
       "Cash    13849\n",
       "UPI     14099\n",
       "Name: Total_Sale, dtype: int64"
      ]
     },
     "execution_count": 45,
     "metadata": {},
     "output_type": "execute_result"
    }
   ],
   "source": [
    "df.groupby('Payment_Method')['Total_Sale'].sum()"
   ]
  },
  {
   "cell_type": "markdown",
   "id": "ee1ecf6b-dcd3-4120-b553-0d9c1c98257d",
   "metadata": {},
   "source": [
    "# Popular payment method"
   ]
  },
  {
   "cell_type": "code",
   "execution_count": 56,
   "id": "e83e6228-92d1-4f76-879f-7205860468d9",
   "metadata": {},
   "outputs": [
    {
     "name": "stdout",
     "output_type": "stream",
     "text": [
      "\n",
      "Most used payment method: Card\n"
     ]
    }
   ],
   "source": [
    "print(\"\\nMost used payment method:\", df[\"Payment_Method\"].value_counts().idxmax())"
   ]
  },
  {
   "cell_type": "markdown",
   "id": "487b3e67-f5d8-4e88-a949-0a2171194f2d",
   "metadata": {},
   "source": [
    "# Sales distribution by category."
   ]
  },
  {
   "cell_type": "code",
   "execution_count": 58,
   "id": "08506ec0-026b-4412-96e4-3f737dca246b",
   "metadata": {},
   "outputs": [
    {
     "data": {
      "image/png": "[encoded data removed]",
      "text/plain": [
       "<Figure size 600x600 with 1 Axes>"
      ]
     },
     "metadata": {},
     "output_type": "display_data"
    }
   ],
   "source": [
    "# Pie chart: Sales by category\n",
    "df.groupby(\"Category\")[\"Total_Sale\"].sum().plot(kind=\"pie\", autopct=\"%1.1f%%\", figsize=(6, 6))\n",
    "plt.title(\"Sales Distribution by Category\")\n",
    "plt.ylabel(\"\")\n",
    "plt.show()"
   ]
  },
  {
   "cell_type": "markdown",
   "id": "15766ec7-64f7-4694-bf9c-f962cd7a1d74",
   "metadata": {},
   "source": [
    "# Distribution of quantity sold"
   ]
  },
  {
   "cell_type": "code",
   "execution_count": 62,
   "id": "c5c95082-3907-4acf-95f1-423d5ac5b80e",
   "metadata": {},
   "outputs": [
    {
     "data": {
      "image/png": "[encoded data removed]",
      "text/plain": [
       "<Figure size 640x480 with 1 Axes>"
      ]
     },
     "metadata": {},
     "output_type": "display_data"
    }
   ],
   "source": [
    "df[\"Quantity\"].plot(kind=\"hist\", bins=10, title=\"Distribution of Quantity Sold\")\n",
    "plt.xlabel(\"Quantity\")\n",
    "plt.tight_layout()\n",
    "plt.show()"
   ]
  },
  {
   "cell_type": "markdown",
   "id": "a9e16404-e12c-4452-a7de-2377e44f94d0",
   "metadata": {},
   "source": [
    "# Adding new column as Revenue_per_unit"
   ]
  },
  {
   "cell_type": "code",
   "execution_count": 63,
   "id": "74507139-1d5e-4e78-9e7f-4622700650c3",
   "metadata": {},
   "outputs": [],
   "source": [
    "df['Revenue_per_unit'] = df.Total_Sale / df.Quantity"
   ]
  },
  {
   "cell_type": "code",
   "execution_count": 66,
   "id": "2edb72a1-37c4-4cf5-8a62-d4e583c8b695",
   "metadata": {},
   "outputs": [
    {
     "data": {
      "text/html": [
       "<div>\n",
       "<style scoped>\n",
       "    .dataframe tbody tr th:only-of-type {\n",
       "        vertical-align: middle;\n",
       "    }\n",
       "\n",
       "    .dataframe tbody tr th {\n",
       "        vertical-align: top;\n",
       "    }\n",
       "\n",
       "    .dataframe thead th {\n",
       "        text-align: right;\n",
       "    }\n",
       "</style>\n",
       "<table border=\"1\" class=\"dataframe\">\n",
       "  <thead>\n",
       "    <tr style=\"text-align: right;\">\n",
       "      <th></th>\n",
       "      <th>Date</th>\n",
       "      <th>Item</th>\n",
       "      <th>Category</th>\n",
       "      <th>Quantity</th>\n",
       "      <th>Unit_Price</th>\n",
       "      <th>Total_Sale</th>\n",
       "      <th>Payment_Method</th>\n",
       "      <th>Revenue_per_unit</th>\n",
       "    </tr>\n",
       "  </thead>\n",
       "  <tbody>\n",
       "    <tr>\n",
       "      <th>0</th>\n",
       "      <td>2025-07-01</td>\n",
       "      <td>Bread</td>\n",
       "      <td>Bakery</td>\n",
       "      <td>12</td>\n",
       "      <td>30</td>\n",
       "      <td>360</td>\n",
       "      <td>Cash</td>\n",
       "      <td>30.0</td>\n",
       "    </tr>\n",
       "    <tr>\n",
       "      <th>1</th>\n",
       "      <td>2025-07-02</td>\n",
       "      <td>Cookies</td>\n",
       "      <td>Bakery</td>\n",
       "      <td>5</td>\n",
       "      <td>20</td>\n",
       "      <td>100</td>\n",
       "      <td>UPI</td>\n",
       "      <td>20.0</td>\n",
       "    </tr>\n",
       "    <tr>\n",
       "      <th>2</th>\n",
       "      <td>2025-07-03</td>\n",
       "      <td>Orange</td>\n",
       "      <td>Fruits</td>\n",
       "      <td>19</td>\n",
       "      <td>25</td>\n",
       "      <td>475</td>\n",
       "      <td>Cash</td>\n",
       "      <td>25.0</td>\n",
       "    </tr>\n",
       "    <tr>\n",
       "      <th>3</th>\n",
       "      <td>2025-07-04</td>\n",
       "      <td>Orange</td>\n",
       "      <td>Fruits</td>\n",
       "      <td>9</td>\n",
       "      <td>25</td>\n",
       "      <td>225</td>\n",
       "      <td>Cash</td>\n",
       "      <td>25.0</td>\n",
       "    </tr>\n",
       "    <tr>\n",
       "      <th>4</th>\n",
       "      <td>2025-07-05</td>\n",
       "      <td>Banana</td>\n",
       "      <td>Fruits</td>\n",
       "      <td>18</td>\n",
       "      <td>10</td>\n",
       "      <td>180</td>\n",
       "      <td>UPI</td>\n",
       "      <td>10.0</td>\n",
       "    </tr>\n",
       "    <tr>\n",
       "      <th>...</th>\n",
       "      <td>...</td>\n",
       "      <td>...</td>\n",
       "      <td>...</td>\n",
       "      <td>...</td>\n",
       "      <td>...</td>\n",
       "      <td>...</td>\n",
       "      <td>...</td>\n",
       "      <td>...</td>\n",
       "    </tr>\n",
       "    <tr>\n",
       "      <th>95</th>\n",
       "      <td>2025-10-04</td>\n",
       "      <td>Orange</td>\n",
       "      <td>Fruits</td>\n",
       "      <td>1</td>\n",
       "      <td>25</td>\n",
       "      <td>25</td>\n",
       "      <td>UPI</td>\n",
       "      <td>25.0</td>\n",
       "    </tr>\n",
       "    <tr>\n",
       "      <th>96</th>\n",
       "      <td>2025-10-05</td>\n",
       "      <td>Cake</td>\n",
       "      <td>Bakery</td>\n",
       "      <td>19</td>\n",
       "      <td>150</td>\n",
       "      <td>2850</td>\n",
       "      <td>UPI</td>\n",
       "      <td>150.0</td>\n",
       "    </tr>\n",
       "    <tr>\n",
       "      <th>97</th>\n",
       "      <td>2025-10-06</td>\n",
       "      <td>Grapes</td>\n",
       "      <td>Fruits</td>\n",
       "      <td>18</td>\n",
       "      <td>18</td>\n",
       "      <td>324</td>\n",
       "      <td>UPI</td>\n",
       "      <td>18.0</td>\n",
       "    </tr>\n",
       "    <tr>\n",
       "      <th>98</th>\n",
       "      <td>2025-10-07</td>\n",
       "      <td>Milk</td>\n",
       "      <td>Dairy</td>\n",
       "      <td>1</td>\n",
       "      <td>45</td>\n",
       "      <td>45</td>\n",
       "      <td>Card</td>\n",
       "      <td>45.0</td>\n",
       "    </tr>\n",
       "    <tr>\n",
       "      <th>99</th>\n",
       "      <td>2025-10-08</td>\n",
       "      <td>Milk</td>\n",
       "      <td>Dairy</td>\n",
       "      <td>14</td>\n",
       "      <td>45</td>\n",
       "      <td>630</td>\n",
       "      <td>UPI</td>\n",
       "      <td>45.0</td>\n",
       "    </tr>\n",
       "  </tbody>\n",
       "</table>\n",
       "<p>100 rows × 8 columns</p>\n",
       "</div>"
      ],
      "text/plain": [
       "          Date     Item Category  Quantity  Unit_Price  Total_Sale  \\\n",
       "0   2025-07-01    Bread   Bakery        12          30         360   \n",
       "1   2025-07-02  Cookies   Bakery         5          20         100   \n",
       "2   2025-07-03   Orange   Fruits        19          25         475   \n",
       "3   2025-07-04   Orange   Fruits         9          25         225   \n",
       "4   2025-07-05   Banana   Fruits        18          10         180   \n",
       "..         ...      ...      ...       ...         ...         ...   \n",
       "95  2025-10-04   Orange   Fruits         1          25          25   \n",
       "96  2025-10-05     Cake   Bakery        19         150        2850   \n",
       "97  2025-10-06   Grapes   Fruits        18          18         324   \n",
       "98  2025-10-07     Milk    Dairy         1          45          45   \n",
       "99  2025-10-08     Milk    Dairy        14          45         630   \n",
       "\n",
       "   Payment_Method  Revenue_per_unit  \n",
       "0            Cash              30.0  \n",
       "1             UPI              20.0  \n",
       "2            Cash              25.0  \n",
       "3            Cash              25.0  \n",
       "4             UPI              10.0  \n",
       "..            ...               ...  \n",
       "95            UPI              25.0  \n",
       "96            UPI             150.0  \n",
       "97            UPI              18.0  \n",
       "98           Card              45.0  \n",
       "99            UPI              45.0  \n",
       "\n",
       "[100 rows x 8 columns]"
      ]
     },
     "execution_count": 66,
     "metadata": {},
     "output_type": "execute_result"
    }
   ],
   "source": [
    "df"
   ]
  },
  {
   "cell_type": "markdown",
   "id": "cfacc20c-b927-4dcf-ae6f-c0845ddc4f9c",
   "metadata": {},
   "source": [
    "# Identify items with Revenue_per_unit > 50"
   ]
  },
  {
   "cell_type": "code",
   "execution_count": 67,
   "id": "e458e23e-aec9-48d5-b2e9-caef89178a00",
   "metadata": {},
   "outputs": [
    {
     "name": "stdout",
     "output_type": "stream",
     "text": [
      "          Date    Item  Revenue_per_unit\n",
      "10  2025-07-11  Cheese              60.0\n",
      "13  2025-07-14  Butter              55.0\n",
      "20  2025-07-21  Paneer              75.0\n",
      "22  2025-07-23    Cake             150.0\n",
      "31  2025-08-01  Cheese              60.0\n"
     ]
    }
   ],
   "source": [
    "print(df[df[\"Revenue_per_unit\"] > 50][[\"Date\", \"Item\", \"Revenue_per_unit\"]].head())"
   ]
  },
  {
   "cell_type": "code",
   "execution_count": null,
   "id": "2b743719-cc9d-430b-8f62-913a857f0003",
   "metadata": {},
   "outputs": [],
   "source": []
  }
 ],
 "metadata": {
  "kernelspec": {
   "display_name": "Python 3 (ipykernel)",
   "language": "python",
   "name": "python3"
  },
  "language_info": {
   "codemirror_mode": {
    "name": "ipython",
    "version": 3
   },
   "file_extension": ".py",
   "mimetype": "text/x-python",
   "name": "python",
   "nbconvert_exporter": "python",
   "pygments_lexer": "ipython3",
   "version": "3.12.0"
  }
 },
 "nbformat": 4,
 "nbformat_minor": 5
}
